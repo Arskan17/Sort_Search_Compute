{
 "cells": [
  {
   "cell_type": "code",
   "execution_count": null,
   "id": "9a82d191-3cb4-4ac0-8c1b-bf6c0181ce27",
   "metadata": {},
   "outputs": [],
   "source": [
    "def jjo(digits: list[int]):\n",
    "    n = len(digits)\n",
    "    jj = 0\n",
    "    for i in range(n):\n",
    "        jj += (digits[i]*10**(n-i-1))\n",
    "    jj+\n",
    "    return [int(i) for i in str(jj)]"
   ]
  },
  {
   "cell_type": "code",
   "execution_count": null,
   "id": "f77ee621-33f5-4dc7-8008-702a38a1982b",
   "metadata": {},
   "outputs": [],
   "source": [
    "jjo([1,2,3,4,5,5,5])"
   ]
  },
  {
   "cell_type": "code",
   "execution_count": null,
   "id": "d1cb8cf7-9033-401a-84fe-638e2ecd7e29",
   "metadata": {},
   "outputs": [],
   "source": [
    "jo = \"1010100010\"\n",
    "for i in range(2):\n",
    "    jo += '0'\n",
    "print(jo)\n",
    "    "
   ]
  },
  {
   "cell_type": "code",
   "execution_count": null,
   "id": "ef9b5754-b221-45d4-9c6e-75a5e2347c19",
   "metadata": {},
   "outputs": [],
   "source": [
    "def jello(n:int, staire=[]):\n",
    "    print(n//2)"
   ]
  },
  {
   "cell_type": "code",
   "execution_count": null,
   "id": "570b848b-120f-46c9-b3ed-01e9548bf092",
   "metadata": {},
   "outputs": [],
   "source": [
    "jello(5, [2])"
   ]
  },
  {
   "cell_type": "code",
   "execution_count": null,
   "id": "4334c3f6-bc9d-4730-bee1-8465617afa3e",
   "metadata": {},
   "outputs": [],
   "source": [
    "import numpy as np\n",
    "staires = np.zeros(2)\n",
    "staires[0]=1\n",
    "staires[1]=2"
   ]
  },
  {
   "cell_type": "code",
   "execution_count": null,
   "id": "4cb651f5-f444-43d9-a184-e8ab1d20b025",
   "metadata": {},
   "outputs": [],
   "source": [
    "print(staires[1])"
   ]
  },
  {
   "cell_type": "code",
   "execution_count": 5,
   "id": "350aba28-ffe1-4ad2-91a3-b2439eba1394",
   "metadata": {},
   "outputs": [],
   "source": [
    "staires = {}\n",
    "\n",
    "def jello(n:int, staires):\n",
    "    if (n>2):\n",
    "        if n not in staires:\n",
    "            staires[n] = (jello(n-1, staires) + jello(n-2, staires))\n",
    "            # return (jello(n-1, staires) + jello(n-2, staires))\n",
    "        return staires[n]\n",
    "        # return n\n",
    "    return int(n)\n"
   ]
  },
  {
   "cell_type": "code",
   "execution_count": 11,
   "id": "7c9cca56-1299-4898-82b1-4d1c298c6ec3",
   "metadata": {},
   "outputs": [
    {
     "name": "stdout",
     "output_type": "stream",
     "text": [
      "elapsed time:  0.000062465668 seconds, to calculate 30464466237021013443716776226800834957182606015969344302751396920321847653300991\n"
     ]
    }
   ],
   "source": [
    "import time\n",
    "a = time.time()\n",
    "jj = jello(381, staires)\n",
    "b = time.time()\n",
    "c = b-a\n",
    "print(f\"elapsed time: {c: .12f} seconds, to calculate {jj}\")"
   ]
  },
  {
   "cell_type": "code",
   "execution_count": 16,
   "id": "9ab68b22-503f-4e1d-8b50-d69665267b4c",
   "metadata": {},
   "outputs": [],
   "source": [
    "def merge(nums1: list[int], m: int, nums2: list[int], n: int) -> None:\n",
    "        \"\"\"\n",
    "        Do not return anything, modify nums1 in-place instead.\n",
    "        \"\"\"\n",
    "        for i in range(n):\n",
    "            nums1[m+i] = nums2[i]\n",
    "        nums1 = sorted(nums1)\n",
    "        return nums1"
   ]
  },
  {
   "cell_type": "code",
   "execution_count": 18,
   "id": "18463c60-91c2-4632-9847-56983e80b142",
   "metadata": {},
   "outputs": [
    {
     "data": {
      "text/plain": [
       "[1, 2, 2, 3, 5, 6]"
      ]
     },
     "execution_count": 18,
     "metadata": {},
     "output_type": "execute_result"
    }
   ],
   "source": [
    "merge([1,2,3,0,0,0], 3, [2,5,6], 3)"
   ]
  },
  {
   "cell_type": "code",
   "execution_count": 31,
   "id": "c09df716-686b-40c1-a5a0-7eb221cfff4a",
   "metadata": {},
   "outputs": [
    {
     "name": "stdout",
     "output_type": "stream",
     "text": [
      "[7, 6, 5, 4, 3, 2, 1]\n"
     ]
    }
   ],
   "source": [
    "jx = [1,2,3,4,5,6,7]\n",
    "jx.reverse()\n",
    "print(jx)"
   ]
  },
  {
   "cell_type": "code",
   "execution_count": 65,
   "id": "3afbfaae-5395-4dfc-8dc3-284a04d95063",
   "metadata": {},
   "outputs": [
    {
     "name": "stdout",
     "output_type": "stream",
     "text": [
      "[]\n"
     ]
    }
   ],
   "source": [
    "class TreeNode:\n",
    "    def __init__(self, val=0, left=None, right=None):\n",
    "        self.val = val\n",
    "        self.left = left\n",
    "        self.right = right\n",
    "def isSymetric(root: TreeNode) -> list:\n",
    "        lst = []\n",
    "        def sss(rut):\n",
    "            if rut:\n",
    "                sss(rut.left)\n",
    "                lst.append(rut.val)\n",
    "                sss(rut.right)\n",
    "        return lst\n",
    "    \n",
    "obj = TreeNode([1,2,2,3,4,4,3])\n",
    "ans = isSymetric(obj)\n",
    "print(ans)"
   ]
  },
  {
   "cell_type": "code",
   "execution_count": 57,
   "id": "34671a0e-6931-4ad1-a737-695877011396",
   "metadata": {},
   "outputs": [
    {
     "name": "stdout",
     "output_type": "stream",
     "text": [
      "Is tree symmetric: True\n"
     ]
    }
   ],
   "source": [
    "class TreeNode:\n",
    "  def __init__(self, val=0, left=None, right=None):\n",
    "    self.val = val\n",
    "    self.left = left\n",
    "    self.right = right\n",
    "\n",
    "class JJ:\n",
    "  def isSymmetric(self, root: TreeNode) -> bool:\n",
    "    \"\"\"\n",
    "    Checks if a binary tree is symmetric.\n",
    "\n",
    "    Args:\n",
    "        root: The root node of the binary tree.\n",
    "\n",
    "    Returns:\n",
    "        True if the tree is symmetric, False otherwise.\n",
    "    \"\"\"\n",
    "    def isMirror(left, right):\n",
    "      if not left and not right:\n",
    "        return True\n",
    "      if not left or not right:\n",
    "        return False\n",
    "      return left.val == right.val and isMirror(left.left, right.right) and isMirror(left.right, right.left)\n",
    "\n",
    "    if not root:  # Handle empty tree case\n",
    "      return True\n",
    "    return isMirror(root.left, root.right)\n",
    "\n",
    "# Example usage\n",
    "obj = TreeNode([1,2,2,None,3,None,3])\n",
    "result = JJ().isSymmetric(obj)\n",
    "print(\"Is tree symmetric:\", result)\n"
   ]
  },
  {
   "cell_type": "code",
   "execution_count": 93,
   "id": "b34eddaf-7e74-4e38-835c-fa339e90cada",
   "metadata": {},
   "outputs": [
    {
     "name": "stdout",
     "output_type": "stream",
     "text": [
      "[3, 2, 4]\n",
      "[2, 3, 4]\n",
      "[4, 3, 2]\n",
      "None\n"
     ]
    }
   ],
   "source": [
    "# kk = [2,1,3,2,4,3,3,4,5,6,5,4,6,6,7,8,7]\n",
    "kk = [3,2,4]\n",
    "jj = []\n",
    "for k in range(len(kk)):\n",
    "    if kk[k] not in jj:\n",
    "        jj.append(kk[k])\n",
    "print(jj)\n",
    "print(sorted(jj))\n",
    "print([sorted(jj)[i] for i in range(len(jj)-1, -1, -1)])\n",
    "print(jj.reverse())"
   ]
  },
  {
   "cell_type": "code",
   "execution_count": 3,
   "id": "ad381235-0113-4cb8-9330-632f3aa976c1",
   "metadata": {},
   "outputs": [],
   "source": [
    "def lstsq(n:int):\n",
    "    return [i+1 for i in range(n**2)]\n",
    "    "
   ]
  },
  {
   "cell_type": "code",
   "execution_count": 4,
   "id": "e482bcb8-b032-45b9-8514-bcd11dffcaa5",
   "metadata": {},
   "outputs": [
    {
     "data": {
      "text/plain": [
       "[1, 2, 3, 4, 5, 6, 7, 8, 9]"
      ]
     },
     "execution_count": 4,
     "metadata": {},
     "output_type": "execute_result"
    }
   ],
   "source": [
    "lstsq(3)"
   ]
  },
  {
   "cell_type": "code",
   "execution_count": 6,
   "id": "e0233b93-4d10-4759-b9c6-03a26ed2b766",
   "metadata": {},
   "outputs": [
    {
     "name": "stdout",
     "output_type": "stream",
     "text": [
      "[[0], [0], [0], [0], [0], [0], [0], [0], [0]]\n"
     ]
    }
   ],
   "source": [
    "kd = [[0]]*3**2\n",
    "print(kd)"
   ]
  },
  {
   "cell_type": "code",
   "execution_count": 5,
   "id": "56a07479-8b2c-4ace-851f-f8781ed238d2",
   "metadata": {},
   "outputs": [
    {
     "data": {
      "text/plain": [
       "(False, [False, False])"
      ]
     },
     "execution_count": 5,
     "metadata": {},
     "output_type": "execute_result"
    }
   ],
   "source": [
    "def palindrome(s):\n",
    "    jj = [j for j in s if ((47<ord(j) and ord(j)<58) or (64<ord(j) and ord(j)<91) or (96<ord(j) and ord(j)<123))]\n",
    "    jj1 = [j.lower for j in jj if (64<ord(j) and ord(j)<91)]\n",
    "\n",
    "    n = len(jj1)\n",
    "        # for i in range(n):\n",
    "    ii = [jj1[i]==jj1[n-i-1] for i in range(n)]\n",
    "    return all(ii), ii\n",
    "\n",
    "palindrome(\" A man, a plan, a canal: Panama\")"
   ]
  },
  {
   "cell_type": "code",
   "execution_count": 14,
   "id": "3d271edd-28dd-4e9d-8939-00456a740106",
   "metadata": {},
   "outputs": [
    {
     "name": "stdout",
     "output_type": "stream",
     "text": [
      "True\n"
     ]
    }
   ],
   "source": [
    "print( \"AmanaplanacanalPanama\".isalnum() )"
   ]
  },
  {
   "cell_type": "code",
   "execution_count": 24,
   "id": "11bf3a93-e8cf-4cf3-a57e-2848a8fdb72d",
   "metadata": {},
   "outputs": [
    {
     "name": "stdout",
     "output_type": "stream",
     "text": [
      "[[1], [1], [1], [1], [1]]\n"
     ]
    }
   ],
   "source": [
    "print([[1]]*5)"
   ]
  },
  {
   "cell_type": "code",
   "execution_count": 23,
   "id": "6f2d9cc6-682a-4657-a727-a6fda39195de",
   "metadata": {},
   "outputs": [
    {
     "name": "stdout",
     "output_type": "stream",
     "text": [
      "{0, 1, 2, 3, 4, 5, 6, 7}\n"
     ]
    }
   ],
   "source": [
    "asa = set()\n",
    "for i in range(8):\n",
    "    asa.add(i)\n",
    "print(asa)"
   ]
  },
  {
   "cell_type": "code",
   "execution_count": 36,
   "id": "5120c2e5-405a-44c6-910a-1ab0541601b4",
   "metadata": {},
   "outputs": [
    {
     "name": "stdout",
     "output_type": "stream",
     "text": [
      "139763485694784\n",
      "139763485699200\n",
      "[545, 34]\n"
     ]
    }
   ],
   "source": [
    "bana = [2,3,4,5,2,2,3,4,53,65,6,23,13,13]\n",
    "print(id(bana))\n",
    "bana = [32,4,5,545,34]\n",
    "print(id(bana))\n",
    "print((bana[3:len(bana)]))"
   ]
  },
  {
   "cell_type": "code",
   "execution_count": 46,
   "id": "fb94c0a9-2790-4888-839c-8d3301c9493f",
   "metadata": {},
   "outputs": [
    {
     "name": "stdout",
     "output_type": "stream",
     "text": [
      "['a', 'a', 'b', 'b', 'c', 'c', 'c', 'i']\n"
     ]
    }
   ],
   "source": [
    "# j = set([\"a\",\"a\",\"b\",\"b\",\"c\",\"c\",\"c\"])\n",
    "j = [\"a\",\"a\",\"b\",\"b\",\"c\",\"c\",\"c\"]\n",
    "j.append('i')\n",
    "print(j)\n"
   ]
  },
  {
   "cell_type": "code",
   "execution_count": 53,
   "id": "dc23a7d0-839b-4d15-82f6-98e200d7f641",
   "metadata": {},
   "outputs": [
    {
     "data": {
      "text/plain": [
       "0"
      ]
     },
     "execution_count": 53,
     "metadata": {},
     "output_type": "execute_result"
    }
   ],
   "source": [
    "def cnnnt(s:str):\n",
    "    if len(s)<1: return 0\n",
    "\n",
    "    j = 1\n",
    "    for i in range(len(s)):\n",
    "        if ord(s[i])==32: j+=1\n",
    "\n",
    "    if len(s)+1 == j: return 0\n",
    "    return j, len(s)\n",
    "cnnnt(\"                \")"
   ]
  },
  {
   "cell_type": "code",
   "execution_count": 65,
   "id": "b1844786-647b-403d-b008-28c977438396",
   "metadata": {},
   "outputs": [
    {
     "name": "stdout",
     "output_type": "stream",
     "text": [
      "0\n"
     ]
    }
   ],
   "source": [
    "def singk(nums):\n",
    "    jj = nums[0]\n",
    "    for i in range(1, len(nums)):\n",
    "        jj = jj ^ nums[i]\n",
    "    return jj\n",
    "print(singk([2,3,4,5,7,6,8,9]))"
   ]
  },
  {
   "cell_type": "code",
   "execution_count": null,
   "id": "dcce3f6a-8e93-4f94-8cde-2c9d52760be9",
   "metadata": {},
   "outputs": [],
   "source": []
  },
  {
   "cell_type": "code",
   "execution_count": 103,
   "id": "fa3de024-a223-46e9-9581-8f9c3d1f6ddb",
   "metadata": {},
   "outputs": [],
   "source": [
    "def add_time(start, duration):\n",
    "    AM = 1\n",
    "    if start[-2] == 'A':\n",
    "        AM = 0\n",
    "\n",
    "    start_hour = 0\n",
    "    start_minutes = 0\n",
    "    if len(start) == 8:\n",
    "        start_hour = int(start[0] + start[1])\n",
    "        start_minutes = int(start[3] + start[4])\n",
    "    elif len(start) == 7:\n",
    "        start_hour = int(start[0])\n",
    "        start_minutes = int(start[2] + start[3])\n",
    "        \n",
    "    print(start_hour, start_minutes) # print to make sure\n",
    "\n",
    "    duration_hour = 0\n",
    "    duration_minutes = 0\n",
    "    if len(duration) == 5:\n",
    "        duration_hour = int(duration[0] + duration[1])\n",
    "        duration_minutes = int(duration[3] + duration[4])\n",
    "    elif len(duration) == 4:\n",
    "        duration_hour = int(duration[0])\n",
    "        duration_minutes = int(duration[2] + duration[3])\n",
    "        \n",
    "    print(duration_hour, duration_minutes) # print to make sure\n",
    "\n",
    "    \n",
    "    end_hour = (start_hour + duration_hour + ((start_minutes + duration_minutes) // 60))%12\n",
    "    print(end_hour)\n",
    "    end_minutes = (start_minutes + duration_minutes)%60    \n",
    "    print(end_minutes)\n",
    "\n",
    "    AM = (AM + (start_hour + duration_hour + ((start_minutes + duration_minutes) // 60))//12)%2\n",
    "\n",
    "    sufx = ''\n",
    "    if AM==0:\n",
    "        sufx = 'AM'\n",
    "    elif AM==1:\n",
    "        sufx = 'PM'\n",
    "    \n",
    "    if end_minutes < 10:\n",
    "        return str(end_hour) + ':0' + str(end_minutes) + ' ' + sufx\n",
    "    new_time = str(end_hour) + ':' + str(end_minutes) + ' ' + sufx\n",
    "    \n",
    "\n",
    "\n",
    "\n",
    "    return new_time"
   ]
  },
  {
   "cell_type": "code",
   "execution_count": 105,
   "id": "bd11235d-86fb-4555-b234-618a031c657f",
   "metadata": {},
   "outputs": [
    {
     "name": "stdout",
     "output_type": "stream",
     "text": [
      "8 16\n",
      "0 0\n",
      "8\n",
      "16\n"
     ]
    },
    {
     "data": {
      "text/plain": [
       "'8:16 PM'"
      ]
     },
     "execution_count": 105,
     "metadata": {},
     "output_type": "execute_result"
    }
   ],
   "source": [
    "# add_time('3:30 PM', '2:12')\n",
    "# add_time('11:55 AM', '3:12')\n",
    "add_time('8:16 PM', '466:02')"
   ]
  },
  {
   "cell_type": "code",
   "execution_count": 106,
   "id": "8438049e-c0a5-4016-bb2a-6996f7a2728e",
   "metadata": {},
   "outputs": [
    {
     "name": "stdout",
     "output_type": "stream",
     "text": [
      "['0,6', '1,2,3', '4,5']\n"
     ]
    }
   ],
   "source": [
    "print(sorted([\"1,2,3\", \"4,5\", \"0,6\"]))"
   ]
  },
  {
   "cell_type": "code",
   "execution_count": 9,
   "id": "6127ea60-f62b-4450-a95b-11a1a7e01143",
   "metadata": {},
   "outputs": [
    {
     "name": "stdout",
     "output_type": "stream",
     "text": [
      "1.4142135623730951\n"
     ]
    }
   ],
   "source": [
    "print(4**(1/4))"
   ]
  },
  {
   "cell_type": "code",
   "execution_count": null,
   "id": "c72aa107-bf92-4538-bb45-5ce61d60e53e",
   "metadata": {},
   "outputs": [],
   "source": []
  },
  {
   "cell_type": "markdown",
   "id": "c256f535-8982-4802-8bfa-7887faeb3f02",
   "metadata": {},
   "source": [
    "### Crazy string shit"
   ]
  },
  {
   "cell_type": "code",
   "execution_count": 2,
   "id": "35a0a565-8f54-4ade-9e5d-f2af5ea838fd",
   "metadata": {},
   "outputs": [
    {
     "ename": "ValueError",
     "evalue": "slice step cannot be zero",
     "output_type": "error",
     "traceback": [
      "\u001b[0;31m---------------------------------------------------------------------------\u001b[0m",
      "\u001b[0;31mValueError\u001b[0m                                Traceback (most recent call last)",
      "Cell \u001b[0;32mIn[2], line 2\u001b[0m\n\u001b[1;32m      1\u001b[0m jim \u001b[38;5;241m=\u001b[39m \u001b[38;5;124m\"\u001b[39m\u001b[38;5;124mpandapandapanda\u001b[39m\u001b[38;5;124m\"\u001b[39m\n\u001b[0;32m----> 2\u001b[0m \u001b[38;5;28mprint\u001b[39m(\u001b[43mjim\u001b[49m\u001b[43m[\u001b[49m\u001b[38;5;241;43m-\u001b[39;49m\u001b[38;5;241;43m1\u001b[39;49m\u001b[43m:\u001b[49m\u001b[43m:\u001b[49m\u001b[38;5;241;43m0\u001b[39;49m\u001b[43m]\u001b[49m)\n",
      "\u001b[0;31mValueError\u001b[0m: slice step cannot be zero"
     ]
    }
   ],
   "source": [
    "jim = \"pandapandapanda\"\n",
    "print(jim[-1::0])"
   ]
  },
  {
   "cell_type": "code",
   "execution_count": null,
   "id": "b00c6366-7503-4d0c-8e47-3ef4d4d2343f",
   "metadata": {},
   "outputs": [],
   "source": []
  }
 ],
 "metadata": {
  "kernelspec": {
   "display_name": "Python 3 (ipykernel)",
   "language": "python",
   "name": "python3"
  },
  "language_info": {
   "codemirror_mode": {
    "name": "ipython",
    "version": 3
   },
   "file_extension": ".py",
   "mimetype": "text/x-python",
   "name": "python",
   "nbconvert_exporter": "python",
   "pygments_lexer": "ipython3",
   "version": "3.10.12"
  }
 },
 "nbformat": 4,
 "nbformat_minor": 5
}
