{
 "cells": [
  {
   "cell_type": "markdown",
   "id": "8504593c",
   "metadata": {},
   "source": [
    "## Binary Search using a **loop**"
   ]
  },
  {
   "cell_type": "code",
   "execution_count": 6,
   "id": "741d218e-8ed3-4cb2-b186-2199f8ea9b85",
   "metadata": {},
   "outputs": [],
   "source": [
    "def binSearch(nums, x):\n",
    "    low, mid = 0, 0\n",
    "    high = len(nums) - 1\n",
    "    \n",
    "    while low <= high:\n",
    "        mid = (high+low) // 2\n",
    "        if nums[mid] == x:\n",
    "            return mid\n",
    "        elif nums[mid] < x:\n",
    "            low = mid + 1\n",
    "        else:\n",
    "            high = mid - 1"
   ]
  },
  {
   "cell_type": "code",
   "execution_count": 7,
   "id": "69a0ed9f",
   "metadata": {},
   "outputs": [
    {
     "data": {
      "text/plain": [
       "5"
      ]
     },
     "execution_count": 7,
     "metadata": {},
     "output_type": "execute_result"
    }
   ],
   "source": [
    "binSearch([1,4,5,7,9,11,17], 11)"
   ]
  },
  {
   "cell_type": "markdown",
   "id": "6d659c5b",
   "metadata": {},
   "source": [
    "## Binary Search using **recursion**"
   ]
  },
  {
   "cell_type": "code",
   "execution_count": 24,
   "id": "68895752",
   "metadata": {},
   "outputs": [],
   "source": [
    "def binSearch(nums, low, high, x):\n",
    "    mid = (low+high) // 2\n",
    "\n",
    "    if low > high:\n",
    "        return\n",
    "    \n",
    "    if nums[mid] == x:\n",
    "        return print(mid)\n",
    "    elif nums[mid] < x:\n",
    "        binSearch(nums, mid+1, high, x)\n",
    "    elif nums[mid] > x:\n",
    "        binSearch(nums, low, mid-1, x)"
   ]
  },
  {
   "cell_type": "code",
   "execution_count": 25,
   "id": "3c5a6e20",
   "metadata": {},
   "outputs": [
    {
     "name": "stdout",
     "output_type": "stream",
     "text": [
      "5\n"
     ]
    }
   ],
   "source": [
    "binSearch([1,4,5,7,9,11,17], 0, 6, 11)"
   ]
  },
  {
   "cell_type": "code",
   "execution_count": null,
   "id": "b0bc2e37",
   "metadata": {},
   "outputs": [],
   "source": []
  }
 ],
 "metadata": {
  "kernelspec": {
   "display_name": "Python 3 (ipykernel)",
   "language": "python",
   "name": "python3"
  },
  "language_info": {
   "codemirror_mode": {
    "name": "ipython",
    "version": 3
   },
   "file_extension": ".py",
   "mimetype": "text/x-python",
   "name": "python",
   "nbconvert_exporter": "python",
   "pygments_lexer": "ipython3",
   "version": "3.10.13"
  }
 },
 "nbformat": 4,
 "nbformat_minor": 5
}
