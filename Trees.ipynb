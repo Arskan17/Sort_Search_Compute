{
 "cells": [
  {
   "cell_type": "code",
   "execution_count": 1,
   "id": "741d218e-8ed3-4cb2-b186-2199f8ea9b85",
   "metadata": {},
   "outputs": [],
   "source": [
    "class TreeNode:\n",
    "  def __init__(self, val):\n",
    "    self.val = val\n",
    "    self.left = None\n",
    "    self.right = None"
   ]
  },
  {
   "cell_type": "code",
   "execution_count": 16,
   "id": "bb6bfbda-812f-46b3-a7ed-a5dc7c1c142c",
   "metadata": {},
   "outputs": [],
   "source": [
    "def insert(root, node):\n",
    "  \"\"\"\n",
    "  Inserts a new node into a Binary Search Tree.\n",
    "\n",
    "  Args:\n",
    "      root: The root node of the existing tree.\n",
    "      node: The new node to be inserted.\n",
    "\n",
    "  Returns:\n",
    "      The root node of the modified tree.\n",
    "  \"\"\"\n",
    "  if root is None:\n",
    "    return node\n",
    "  if node.val < root.val:\n",
    "    root.left = insert(root.left, node)\n",
    "  else:\n",
    "    root.right = insert(root.right, node)\n",
    "  return root\n",
    "\n",
    "def constructTree(data):\n",
    "  \"\"\"\n",
    "  Constructs a Binary Search Tree from a list of elements.\n",
    "\n",
    "  Args:\n",
    "      data: A list containing the elements to be inserted.\n",
    "\n",
    "  Returns:\n",
    "      The root node of the constructed Binary Search Tree.\n",
    "  \"\"\"\n",
    "  root = None\n",
    "  for val in data:\n",
    "    node = TreeNode(val)\n",
    "    root = insert(root, node)\n",
    "  return root"
   ]
  },
  {
   "cell_type": "code",
   "execution_count": 17,
   "id": "141284af-c3b5-4bb1-89e9-fb46d6b4b144",
   "metadata": {},
   "outputs": [],
   "source": [
    "def isBalanced(root: TreeNode) -> bool:\n",
    "        if not root: \n",
    "            return True\n",
    "        \n",
    "        def getHeight(root):\n",
    "            if not root:\n",
    "                return 0\n",
    "                \n",
    "            return 1 + max(getHeight(root.left), getHeight(root.right))\n",
    "\n",
    "        heightOfLeftSubtree = getHeight(root.left)\n",
    "        heightOfRightSubtree = getHeight(root.right)\n",
    "\n",
    "        if abs(heightOfLeftSubtree - heightOfRightSubtree) > 1:\n",
    "            return False\n",
    "\n",
    "        return True"
   ]
  },
  {
   "cell_type": "code",
   "execution_count": 18,
   "id": "f21af99f-a027-4d87-a65d-420a042cd756",
   "metadata": {},
   "outputs": [
    {
     "ename": "TypeError",
     "evalue": "'<' not supported between instances of 'NoneType' and 'int'",
     "output_type": "error",
     "traceback": [
      "\u001b[0;31m---------------------------------------------------------------------------\u001b[0m",
      "\u001b[0;31mTypeError\u001b[0m                                 Traceback (most recent call last)",
      "Cell \u001b[0;32mIn[18], line 4\u001b[0m\n\u001b[1;32m      1\u001b[0m data \u001b[38;5;241m=\u001b[39m [\u001b[38;5;241m1\u001b[39m,\u001b[38;5;241m2\u001b[39m,\u001b[38;5;241m2\u001b[39m,\u001b[38;5;241m3\u001b[39m,\u001b[38;5;28;01mNone\u001b[39;00m,\u001b[38;5;28;01mNone\u001b[39;00m,\u001b[38;5;241m3\u001b[39m,\u001b[38;5;241m4\u001b[39m,\u001b[38;5;28;01mNone\u001b[39;00m,\u001b[38;5;28;01mNone\u001b[39;00m,\u001b[38;5;241m4\u001b[39m]\n\u001b[1;32m      2\u001b[0m \u001b[38;5;66;03m# data = [1,2,2,3,3,None,None,4,4]\u001b[39;00m\n\u001b[1;32m      3\u001b[0m \u001b[38;5;66;03m# data = [3,9,20,None,None,15,7]\u001b[39;00m\n\u001b[0;32m----> 4\u001b[0m root \u001b[38;5;241m=\u001b[39m \u001b[43mconstructTree\u001b[49m\u001b[43m(\u001b[49m\u001b[43mdata\u001b[49m\u001b[43m)\u001b[49m\n\u001b[1;32m      6\u001b[0m isBalanced(root)\n",
      "Cell \u001b[0;32mIn[16], line 33\u001b[0m, in \u001b[0;36mconstructTree\u001b[0;34m(data)\u001b[0m\n\u001b[1;32m     31\u001b[0m \u001b[38;5;28;01mfor\u001b[39;00m val \u001b[38;5;129;01min\u001b[39;00m data:\n\u001b[1;32m     32\u001b[0m   node \u001b[38;5;241m=\u001b[39m TreeNode(val)\n\u001b[0;32m---> 33\u001b[0m   root \u001b[38;5;241m=\u001b[39m \u001b[43minsert\u001b[49m\u001b[43m(\u001b[49m\u001b[43mroot\u001b[49m\u001b[43m,\u001b[49m\u001b[43m \u001b[49m\u001b[43mnode\u001b[49m\u001b[43m)\u001b[49m\n\u001b[1;32m     34\u001b[0m \u001b[38;5;28;01mreturn\u001b[39;00m root\n",
      "Cell \u001b[0;32mIn[16], line 14\u001b[0m, in \u001b[0;36minsert\u001b[0;34m(root, node)\u001b[0m\n\u001b[1;32m     12\u001b[0m \u001b[38;5;28;01mif\u001b[39;00m root \u001b[38;5;129;01mis\u001b[39;00m \u001b[38;5;28;01mNone\u001b[39;00m:\n\u001b[1;32m     13\u001b[0m   \u001b[38;5;28;01mreturn\u001b[39;00m node\n\u001b[0;32m---> 14\u001b[0m \u001b[38;5;28;01mif\u001b[39;00m \u001b[43mnode\u001b[49m\u001b[38;5;241;43m.\u001b[39;49m\u001b[43mval\u001b[49m\u001b[43m \u001b[49m\u001b[38;5;241;43m<\u001b[39;49m\u001b[43m \u001b[49m\u001b[43mroot\u001b[49m\u001b[38;5;241;43m.\u001b[39;49m\u001b[43mval\u001b[49m:\n\u001b[1;32m     15\u001b[0m   root\u001b[38;5;241m.\u001b[39mleft \u001b[38;5;241m=\u001b[39m insert(root\u001b[38;5;241m.\u001b[39mleft, node)\n\u001b[1;32m     16\u001b[0m \u001b[38;5;28;01melse\u001b[39;00m:\n",
      "\u001b[0;31mTypeError\u001b[0m: '<' not supported between instances of 'NoneType' and 'int'"
     ]
    }
   ],
   "source": [
    "data = [1,2,2,3,None,None,3,4,None,None,4]\n",
    "# data = [1,2,2,3,3,None,None,4,4]\n",
    "# data = [3,9,20,None,None,15,7]\n",
    "root = constructTree(data)\n",
    "\n",
    "isBalanced(root)"
   ]
  },
  {
   "cell_type": "code",
   "execution_count": 20,
   "id": "82a9acfe-a302-47aa-9ac1-435b63f77305",
   "metadata": {},
   "outputs": [
    {
     "name": "stdout",
     "output_type": "stream",
     "text": [
      "13\n"
     ]
    }
   ],
   "source": []
  },
  {
   "cell_type": "code",
   "execution_count": null,
   "id": "da6edc84-59ac-4a40-a4a7-fce396cab81e",
   "metadata": {},
   "outputs": [],
   "source": []
  }
 ],
 "metadata": {
  "kernelspec": {
   "display_name": "Python 3 (ipykernel)",
   "language": "python",
   "name": "python3"
  },
  "language_info": {
   "codemirror_mode": {
    "name": "ipython",
    "version": 3
   },
   "file_extension": ".py",
   "mimetype": "text/x-python",
   "name": "python",
   "nbconvert_exporter": "python",
   "pygments_lexer": "ipython3",
   "version": "3.10.12"
  }
 },
 "nbformat": 4,
 "nbformat_minor": 5
}
