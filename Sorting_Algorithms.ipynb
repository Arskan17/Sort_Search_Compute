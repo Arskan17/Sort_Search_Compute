{
 "cells": [
  {
   "cell_type": "code",
   "execution_count": 4,
   "id": "741d218e-8ed3-4cb2-b186-2199f8ea9b85",
   "metadata": {},
   "outputs": [
    {
     "name": "stdout",
     "output_type": "stream",
     "text": [
      "[4, 2, 7, 12, 3]\n",
      "[2, 4, 7, 12, 3]\n",
      "[2, 4, 7, 12, 3]\n",
      "[2, 4, 7, 12, 3]\n",
      "[2, 4, 7, 12, 3]\n",
      "[2, 4, 7, 12, 3]\n",
      "[2, 4, 7, 12, 3]\n",
      "[2, 3, 7, 12, 4]\n",
      "[2, 3, 7, 12, 4]\n",
      "[2, 3, 4, 12, 7]\n"
     ]
    },
    {
     "data": {
      "text/plain": [
       "[2, 3, 4, 7, 12]"
      ]
     },
     "execution_count": 4,
     "metadata": {},
     "output_type": "execute_result"
    }
   ],
   "source": [
    "'''This sortes a list by sinking down the smallest elements to the beginning of the list.\n",
    "Those bubbles are heavier than water so they sink to the bottom.'''\n",
    "def bubbleSortVone(list):\n",
    "    for outer in range(len(list)):\n",
    "        for inner in range(outer+1, len(list)):\n",
    "            print(list)\n",
    "            if list[inner] < list[outer]:\n",
    "                tmp = list[inner]\n",
    "                list[inner] = list[outer]\n",
    "                list[outer] = tmp\n",
    "    return list\n",
    "\n",
    "\n",
    "\n",
    "\n",
    "'''Execution examples'''\n",
    "A = [4,2,7,12,3]\n",
    "bubbleSortVone(A)"
   ]
  },
  {
   "cell_type": "code",
   "execution_count": 5,
   "id": "78ec0b17-9eb2-4e72-9dd3-00cbf6ea6fe7",
   "metadata": {},
   "outputs": [
    {
     "name": "stdout",
     "output_type": "stream",
     "text": [
      "[4, 2, 7, 12, 3]\n",
      "[2, 4, 7, 12, 3]\n",
      "[2, 4, 7, 12, 3]\n",
      "[2, 4, 7, 12, 3]\n",
      "[2, 4, 7, 3, 12]\n",
      "[2, 4, 7, 3, 12]\n",
      "[2, 4, 7, 3, 12]\n",
      "[2, 4, 3, 7, 12]\n",
      "[2, 4, 3, 7, 12]\n",
      "[2, 4, 3, 7, 12]\n",
      "[2, 3, 4, 7, 12]\n",
      "[2, 3, 4, 7, 12]\n",
      "[2, 3, 4, 7, 12]\n",
      "[2, 3, 4, 7, 12]\n",
      "[2, 3, 4, 7, 12]\n",
      "[2, 3, 4, 7, 12]\n",
      "[2, 3, 4, 7, 12]\n",
      "[2, 3, 4, 7, 12]\n",
      "[2, 3, 4, 7, 12]\n",
      "[2, 3, 4, 7, 12]\n"
     ]
    },
    {
     "data": {
      "text/plain": [
       "[2, 3, 4, 7, 12]"
      ]
     },
     "execution_count": 5,
     "metadata": {},
     "output_type": "execute_result"
    }
   ],
   "source": [
    "'''This is just normal BubblSort. Pushes up all the biggest elemets to the end of the list.'''\n",
    "def bubbleSortVtwo(list):\n",
    "    for outer in list:\n",
    "        for inner in range(len(list)-1):\n",
    "            print(list)\n",
    "            if list[inner+1] < list[inner]:\n",
    "                tmp = list[inner]\n",
    "                list[inner] = list[inner+1]\n",
    "                list[inner+1] = tmp\n",
    "    return list\n",
    "\n",
    "\n",
    "'''Execution examples'''\n",
    "A = [4,2,7,12,3]\n",
    "bubbleSortVtwo(A)"
   ]
  },
  {
   "cell_type": "code",
   "execution_count": 6,
   "id": "b2769ffb-82e5-482f-8c37-6324f1c5484c",
   "metadata": {},
   "outputs": [
    {
     "data": {
      "text/plain": [
       "False"
      ]
     },
     "execution_count": 6,
     "metadata": {},
     "output_type": "execute_result"
    }
   ],
   "source": [
    "'''This algorithm checks elements in three lists and returns True if\n",
    "there exist a single element from every list, for which their sum is Zero.'''\n",
    "def trippleSumZero(A, B, C):\n",
    "    C = sorted(C)\n",
    "    for a in A:\n",
    "        for b in B:\n",
    "            lastElem = 0 - (a+b)\n",
    "            midC = len(C)//2\n",
    "            if lastElem == C[midC]:\n",
    "                return True\n",
    "            if len(C) > 1:\n",
    "                if lastElem < C[midC]:\n",
    "                    return logSearch(C, 0, midC-1, lastElem)\n",
    "                elif lastElem > C[midC]:\n",
    "                    return logSearch(C, midC+1, len(C), lastElem)\n",
    "    return False\n",
    "                \n",
    "def logSearch(list, l, r, lastElem):\n",
    "    midC = (l+r)//2\n",
    "    if lastElem == list[midC]:\n",
    "        return True\n",
    "    if l<=r:\n",
    "        if lastElem < list[midC]:\n",
    "            return logSearch(C, l, midC-1, lastElem)\n",
    "        elif lastElem > list[midC]:\n",
    "            return logSearch(C, midC+1, r, lastElem)\n",
    "    return False\n",
    "\n",
    "\n",
    "'''Execution examples'''\n",
    "A = [4,2,7,12,3]\n",
    "B = [-3,4,6,7,-4]\n",
    "C = [3,5,7,0,-11]\n",
    "trippleSumZero(A,B,C)"
   ]
  },
  {
   "cell_type": "code",
   "execution_count": 7,
   "id": "0457bd73-8527-4e02-8711-bc8a8c165686",
   "metadata": {},
   "outputs": [
    {
     "data": {
      "text/plain": [
       "True"
      ]
     },
     "execution_count": 7,
     "metadata": {},
     "output_type": "execute_result"
    }
   ],
   "source": [
    "'''Same algorithm Idea as above, but different impl.'''\n",
    "def tripleSumZero(A, B, C):\n",
    "    C = sorted(C)\n",
    "    for a in A:\n",
    "        for b in B:\n",
    "            target = -(a + b)  # We're looking for c such that a + b + c = 0\n",
    "            if binarySearch(C, target):\n",
    "                return True\n",
    "    return False  # If no triple sum to zero is found\n",
    "\n",
    "def binarySearch(arr, target):\n",
    "    left, right = 0, len(arr) - 1\n",
    "    while left <= right:\n",
    "        mid = (left + right) // 2\n",
    "        if arr[mid] == target:\n",
    "            return True\n",
    "        elif arr[mid] < target:\n",
    "            left = mid + 1\n",
    "        else:\n",
    "            right = mid - 1\n",
    "    return False\n",
    "\n",
    "\n",
    "'''Execution examples'''\n",
    "A = [4,2,7,12,3]\n",
    "B = [-3,4,6,7,-4]\n",
    "C = [3,5,7,0,-11]\n",
    "tripleSumZero(A,B,C)"
   ]
  },
  {
   "cell_type": "markdown",
   "id": "31aab017-8738-4527-98e7-a03893117b3f",
   "metadata": {},
   "source": [
    "# WS 2017/2018\n",
    "\n",
    "### threeSort"
   ]
  },
  {
   "cell_type": "code",
   "execution_count": 8,
   "id": "c1d1fee0-431e-4d9b-8471-db2fd77689c2",
   "metadata": {},
   "outputs": [
    {
     "name": "stdout",
     "output_type": "stream",
     "text": [
      "Initial list looks like this: [4, 2, 7, 12, 3]\n",
      "[2, 4, 7, 12, 3]\n",
      "[2, 4, 7, 12, 3]\n",
      "[2, 4, 3, 7, 12]\n",
      "[2, 3, 4, 7, 12]\n",
      "[2, 3, 4, 7, 12]\n",
      "[2, 3, 4, 7, 12]\n",
      "[2, 3, 4, 7, 12]\n",
      "[2, 3, 4, 7, 12]\n",
      "[2, 3, 4, 7, 12]\n"
     ]
    },
    {
     "data": {
      "text/plain": [
       "[2, 3, 4, 7, 12]"
      ]
     },
     "execution_count": 8,
     "metadata": {},
     "output_type": "execute_result"
    }
   ],
   "source": [
    "'''This one's from WS17/18'''\n",
    "\n",
    "'''Helper function. it just sorts those tree inputs'''\n",
    "def threeSort(i, j, k, A):\n",
    "    changed = False\n",
    "    a, b, c = A[i], A[j], A[k]\n",
    "    if a>b:\n",
    "        tmp = a\n",
    "        a = b\n",
    "        b = tmp\n",
    "        changed = True\n",
    "    if a>c:\n",
    "        tmp = a\n",
    "        a = c\n",
    "        c = tmp\n",
    "        changed = True\n",
    "    if b>c:\n",
    "        tmp = b\n",
    "        b = c\n",
    "        c = tmp\n",
    "        changed = True\n",
    "    A[i], A[j], A[k] = a, b, c\n",
    "    return changed, A\n",
    "\n",
    "'''tripSort. it uses threeSort to check if a list, A is sorted'''\n",
    "def tripSort(A):\n",
    "    done = False\n",
    "    print(f\"Initial list looks like this: {A}\") #initial list structure\n",
    "    while not done:\n",
    "        done = True\n",
    "        for i in range(len(A)-2):\n",
    "            fst, scd = threeSort(i, i+1, i+2, A)\n",
    "            if fst:\n",
    "                A = scd\n",
    "                done = False\n",
    "            print(A) #list afer every sorting\n",
    "    return A\n",
    "\n",
    "\n",
    "'''Execution examples'''\n",
    "A = [4,2,7,12,3]\n",
    "tripSort(A)"
   ]
  },
  {
   "cell_type": "code",
   "execution_count": null,
   "id": "4d7402d5-ed67-45da-9e7e-55d1a06e885e",
   "metadata": {},
   "outputs": [],
   "source": []
  }
 ],
 "metadata": {
  "kernelspec": {
   "display_name": "Python 3 (ipykernel)",
   "language": "python",
   "name": "python3"
  },
  "language_info": {
   "codemirror_mode": {
    "name": "ipython",
    "version": 3
   },
   "file_extension": ".py",
   "mimetype": "text/x-python",
   "name": "python",
   "nbconvert_exporter": "python",
   "pygments_lexer": "ipython3",
   "version": "3.10.12"
  }
 },
 "nbformat": 4,
 "nbformat_minor": 5
}
